{
 "cells": [
  {
   "cell_type": "markdown",
   "id": "b7085a5f-42c1-49e8-953e-3c0c3e8d17b1",
   "metadata": {},
   "source": [
    "# My Jupyter Notebook on IBM Watson Studio"
   ]
  },
  {
   "cell_type": "markdown",
   "id": "13dd1c2b-153c-436c-9b29-055c7074f1c1",
   "metadata": {},
   "source": [
    "**Name: Suprio Sarker**\n",
    "\n",
    "\n",
    "Occupation:Banking"
   ]
  },
  {
   "cell_type": "markdown",
   "id": "2fd5ed4b-cf33-41d0-9715-f25063768919",
   "metadata": {},
   "source": [
    "*I am interested in data science because it allows me to uncover patterns and insights from large amounts of data, which can lead to better decision making and a greater understanding of the world.*"
   ]
  },
  {
   "cell_type": "markdown",
   "id": "d76a8759-f310-46d3-8eb2-5327d9da543d",
   "metadata": {},
   "source": [
    "### In cell 5 i will print my Name by python code"
   ]
  },
  {
   "cell_type": "code",
   "execution_count": 2,
   "id": "f4c57021-a3d6-40b0-956e-d4ad46f91890",
   "metadata": {},
   "outputs": [
    {
     "name": "stdout",
     "output_type": "stream",
     "text": [
      "Name: Suprio Sarker\n"
     ]
    }
   ],
   "source": [
    "print(\"Name: Suprio Sarker\")"
   ]
  },
  {
   "cell_type": "markdown",
   "id": "a98201c5-ebd7-4795-99e9-a53ab791afc9",
   "metadata": {},
   "source": [
    "---\n",
    "\n",
    "- Bangladesh\n",
    "- Japan\n",
    "- India\n",
    "\n",
    "1. Apple \n",
    "2. Oranage\n",
    "3. Mango"
   ]
  },
  {
   "cell_type": "code",
   "execution_count": null,
   "id": "11fb824a-d609-4fb3-bfed-321f4175b0b5",
   "metadata": {},
   "outputs": [],
   "source": []
  }
 ],
 "metadata": {
  "kernelspec": {
   "display_name": "Python",
   "language": "python",
   "name": "conda-env-python-py"
  },
  "language_info": {
   "codemirror_mode": {
    "name": "ipython",
    "version": 3
   },
   "file_extension": ".py",
   "mimetype": "text/x-python",
   "name": "python",
   "nbconvert_exporter": "python",
   "pygments_lexer": "ipython3",
   "version": "3.7.12"
  }
 },
 "nbformat": 4,
 "nbformat_minor": 5
}
